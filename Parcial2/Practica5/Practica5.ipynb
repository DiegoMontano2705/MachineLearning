{
  "nbformat": 4,
  "nbformat_minor": 0,
  "metadata": {
    "colab": {
      "name": "Practica5.ipynb",
      "provenance": []
    },
    "kernelspec": {
      "name": "python3",
      "display_name": "Python 3"
    },
    "language_info": {
      "name": "python"
    }
  },
  "cells": [
    {
      "cell_type": "code",
      "metadata": {
        "id": "Pbada03IKEJG"
      },
      "source": [
        "import sklearn\n",
        "import numpy as np\n",
        "import pandas as pd\n",
        "import seaborn as sns\n",
        "import matplotlib as mpl\n",
        "import matplotlib.pyplot as plt\n",
        "from sklearn.datasets import load_iris\n",
        "from sklearn.model_selection import train_test_split\n",
        "from sklearn.metrics import confusion_matrix\n",
        "from sklearn.metrics import accuracy_score\n",
        "#Librerias para funciones\n",
        "from sklearn.naive_bayes import MultinomialNB\n",
        "from sklearn.naive_bayes import GaussianNB\n",
        "from sklearn.metrics import plot_confusion_matrix"
      ],
      "execution_count": 23,
      "outputs": []
    },
    {
      "cell_type": "code",
      "metadata": {
        "id": "F406M4ZMNc9x"
      },
      "source": [
        "#Modelando arbol de decision y dividiendo dataset\n",
        "iris = load_iris()\n",
        "X = iris.data[:,:4]\n",
        "y = iris.target\n",
        "X_train,X_test,y_train,y_test = train_test_split(X, y, test_size=0.25, random_state=25)"
      ],
      "execution_count": 24,
      "outputs": []
    },
    {
      "cell_type": "code",
      "metadata": {
        "colab": {
          "base_uri": "https://localhost:8080/",
          "height": 360
        },
        "id": "zVJWfT5lQYVS",
        "outputId": "3b593c49-f0d8-4519-ab83-478c591c3c3c"
      },
      "source": [
        "#GaussianNB\n",
        "classifier = GaussianNB()\n",
        "classifier.fit(X_train, y_train)\n",
        "y_pred = classifier.predict(X_test)\n",
        "#Prediccion \n",
        "acurracy = accuracy_score(y_test, y_pred)\n",
        "print(\"Precision GaussianNB : \", acurracy)\n",
        "#Creando matriz de confusion\n",
        "ConfMtx = confusion_matrix(y_test, y_pred)\n",
        "print(\"Matriz Confusion GaussianNB: \",ConfMtx)\n",
        "\n",
        "# Grafica ilustrada \n",
        "plot_confusion_matrix(classifier, X_test, y_test)  \n",
        "plt.show()  \n"
      ],
      "execution_count": 26,
      "outputs": [
        {
          "output_type": "stream",
          "text": [
            "Precision GaussianNB :  0.9210526315789473\n",
            "Matriz Confusion GaussianNB:  [[11  0  0]\n",
            " [ 0 14  2]\n",
            " [ 0  1 10]]\n"
          ],
          "name": "stdout"
        },
        {
          "output_type": "display_data",
          "data": {
            "image/png": "[encoded data removed]",
            "text/plain": [
              "<Figure size 432x288 with 2 Axes>"
            ]
          },
          "metadata": {
            "tags": [],
            "needs_background": "light"
          }
        }
      ]
    },
    {
      "cell_type": "code",
      "metadata": {
        "colab": {
          "base_uri": "https://localhost:8080/",
          "height": 356
        },
        "id": "MpxhgULMRBwt",
        "outputId": "aae48707-5f0a-4a01-ba14-3e605ac30b2d"
      },
      "source": [
        "#MultinomialDB\n",
        "classifier = MultinomialNB()\n",
        "classifier.fit(X_train, y_train)\n",
        "y_pred = classifier.predict(X_test)\n",
        "#Prediccion \n",
        "acurracy = accuracy_score(y_test, y_pred)\n",
        "print(\"Precision MultinomialNB : \", acurracy)\n",
        "#Creando matriz de confusion\n",
        "ConfMtx = confusion_matrix(y_test, y_pred)\n",
        "print(\"Matriz Confusion MultinomialNB: \",ConfMtx)\n",
        "\n",
        "# Grafica ilustrada \n",
        "\n",
        "plot_confusion_matrix(classifier, X_test, y_test)  \n",
        "plt.show()  "
      ],
      "execution_count": 27,
      "outputs": [
        {
          "output_type": "stream",
          "text": [
            "Precision MultinomialNB :  0.7105263157894737\n",
            "Matriz Confusion MultinomialNB:  [[11  0  0]\n",
            " [ 0  5 11]\n",
            " [ 0  0 11]]\n"
          ],
          "name": "stdout"
        },
        {
          "output_type": "display_data",
          "data": {
            "image/png": "[encoded data removed]",
            "text/plain": [
              "<Figure size 432x288 with 2 Axes>"
            ]
          },
          "metadata": {
            "tags": [],
            "needs_background": "light"
          }
        }
      ]
    },
    {
      "cell_type": "code",
      "metadata": {
        "id": "1mMOMpPyUu8D"
      },
      "source": [
        ""
      ],
      "execution_count": null,
      "outputs": []
    }
  ]
}